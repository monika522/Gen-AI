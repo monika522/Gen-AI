{
  "nbformat": 4,
  "nbformat_minor": 0,
  "metadata": {
    "colab": {
      "provenance": [],
      "gpuType": "T4"
    },
    "kernelspec": {
      "name": "python3",
      "display_name": "Python 3"
    },
    "language_info": {
      "name": "python"
    },
    "accelerator": "GPU"
  },
  "cells": [
    {
      "cell_type": "code",
      "execution_count": null,
      "metadata": {
        "colab": {
          "base_uri": "https://localhost:8080/"
        },
        "id": "DjFIczBjCcZs",
        "outputId": "69ce9bc3-409e-43c2-f720-e958e5fd7bd1"
      },
      "outputs": [
        {
          "output_type": "stream",
          "name": "stdout",
          "text": [
            "  Preparing metadata (setup.py) ... \u001b[?25l\u001b[?25hdone\n",
            "  Building wheel for tensorflow-docs (setup.py) ... \u001b[?25l\u001b[?25hdone\n"
          ]
        }
      ],
      "source": [
        "!pip install -q git+https://github.com/tensorflow/docs\n"
      ]
    },
    {
      "cell_type": "code",
      "source": [
        "import keras\n",
        "from keras import layers\n",
        "from keras import ops\n",
        "from tensorflow_docs.vis import embed\n",
        "import tensorflow as tf\n",
        "import numpy as np\n",
        "import imageio\n"
      ],
      "metadata": {
        "id": "i8_uWXxyDmuQ"
      },
      "execution_count": null,
      "outputs": []
    },
    {
      "cell_type": "markdown",
      "source": [
        "# Constants and hyperparameters"
      ],
      "metadata": {
        "id": "j7UFZOU8FYy3"
      }
    },
    {
      "cell_type": "code",
      "source": [
        "batch_size = 64\n",
        "num_channels= 1\n",
        "num_classes = 10\n",
        "image_size = 28\n",
        "latent_dim = 128"
      ],
      "metadata": {
        "id": "mhhhalv-FdlV"
      },
      "execution_count": null,
      "outputs": []
    },
    {
      "cell_type": "code",
      "source": [
        "# We'll use all the available examples from both the training and test sets.\n",
        "(x_train, y_train), (x_test, y_test) = keras.datasets.mnist.load_data()\n",
        "all_digits = np.concatenate([x_train, x_test])\n",
        "all_labels = np.concatenate([y_train, y_test])\n",
        "\n",
        "# Scale the pixel values to [0, 1] range, add a channel dimension to the images, and one-hot encode the labels.\n",
        "all_digits = all_digits.astype(\"float32\") / 255.0\n",
        "all_digits = np.reshape(all_digits, (-1, 28, 28, 1))\n",
        "all_labels = keras.utils.to_categorical(all_labels, 10)\n",
        "\n",
        "# Create tf.data.Dataset.\n",
        "dataset = tf.data.Dataset.from_tensor_slices((all_digits, all_labels))\n",
        "dataset = dataset.shuffle(buffer_size=1024).batch(batch_size)\n",
        "\n",
        "print(f\"Shape of training images: {all_digits.shape}\")\n",
        "print(f\"Shape of training labels: {all_labels.shape}\")"
      ],
      "metadata": {
        "colab": {
          "base_uri": "https://localhost:8080/"
        },
        "id": "P09aeClDGTFh",
        "outputId": "d2144c09-b29e-4145-8402-414b62b1b1f9"
      },
      "execution_count": null,
      "outputs": [
        {
          "output_type": "stream",
          "name": "stdout",
          "text": [
            "Downloading data from https://storage.googleapis.com/tensorflow/tf-keras-datasets/mnist.npz\n",
            "\u001b[1m11490434/11490434\u001b[0m \u001b[32m━━━━━━━━━━━━━━━━━━━━\u001b[0m\u001b[37m\u001b[0m \u001b[1m2s\u001b[0m 0us/step\n",
            "Shape of training images: (70000, 28, 28, 1)\n",
            "Shape of training labels: (70000, 10)\n"
          ]
        }
      ]
    },
    {
      "cell_type": "code",
      "source": [
        "generator_in_channels = latent_dim + num_classes\n",
        "discriminator_in_channels = num_channels + num_classes\n",
        "print(generator_in_channels, discriminator_in_channels)"
      ],
      "metadata": {
        "colab": {
          "base_uri": "https://localhost:8080/"
        },
        "id": "oK9IQdIOIlLv",
        "outputId": "c441d896-ac96-4bda-ccfa-199a5b2d9726"
      },
      "execution_count": null,
      "outputs": [
        {
          "output_type": "stream",
          "name": "stdout",
          "text": [
            "138 11\n"
          ]
        }
      ]
    },
    {
      "cell_type": "markdown",
      "source": [
        "# Creating the discriminator and generator"
      ],
      "metadata": {
        "id": "mVO12-9oKUuI"
      }
    },
    {
      "cell_type": "code",
      "source": [
        "# Create the discriminator.\n",
        "discriminator = keras.Sequential(\n",
        "    [\n",
        "        keras.layers.InputLayer((28, 28, discriminator_in_channels)),\n",
        "        layers.Conv2D(64, (3, 3), strides=(2, 2), padding=\"same\"),\n",
        "        layers.LeakyReLU(negative_slope=0.2),\n",
        "        layers.Conv2D(128, (3, 3), strides=(2, 2), padding=\"same\"),\n",
        "        layers.LeakyReLU(negative_slope=0.2),\n",
        "        layers.GlobalMaxPooling2D(),\n",
        "        layers.Dense(1),\n",
        "    ],\n",
        "    name=\"discriminator\",\n",
        ")\n",
        "\n",
        "# Create the generator.\n",
        "generator = keras.Sequential(\n",
        "    [\n",
        "        keras.layers.InputLayer((generator_in_channels,)),\n",
        "        # We want to generate 128 + num_classes coefficients to reshape into a 7x7x(128 + num_classes) map.\n",
        "        layers.Dense(7 * 7 * generator_in_channels),\n",
        "        layers.LeakyReLU(negative_slope=0.2),\n",
        "        layers.Reshape((7, 7, generator_in_channels)),\n",
        "        layers.Conv2DTranspose(128, (4, 4), strides=(2, 2), padding=\"same\"),\n",
        "        layers.LeakyReLU(negative_slope=0.2),\n",
        "        layers.Conv2DTranspose(128, (4, 4), strides=(2, 2), padding=\"same\"),\n",
        "        layers.LeakyReLU(negative_slope=0.2),\n",
        "        layers.Conv2D(1, (7, 7), padding=\"same\", activation=\"sigmoid\"),\n",
        "    ],\n",
        "    name=\"generator\",\n",
        ")"
      ],
      "metadata": {
        "id": "H9olrLUhJpL_"
      },
      "execution_count": null,
      "outputs": []
    },
    {
      "cell_type": "markdown",
      "source": [
        "# Creating a ConditionalGAN model"
      ],
      "metadata": {
        "id": "5NZNMjDrOXIJ"
      }
    },
    {
      "cell_type": "code",
      "source": [
        "class ConditionalGAN(keras.Model):\n",
        "    def __init__(self, discriminator, generator, latent_dim):\n",
        "        super().__init__()\n",
        "        self.discriminator = discriminator\n",
        "        self.generator = generator\n",
        "        self.latent_dim = latent_dim\n",
        "        self.seed_generator = keras.random.SeedGenerator(1337)\n",
        "        self.gen_loss_tracker = keras.metrics.Mean(name=\"generator_loss\")\n",
        "        self.disc_loss_tracker = keras.metrics.Mean(name=\"discriminator_loss\")\n",
        "\n",
        "    @property\n",
        "    def metrics(self):\n",
        "        return [self.gen_loss_tracker, self.disc_loss_tracker]\n",
        "\n",
        "    def compile(self, d_optimizer, g_optimizer, loss_fn):\n",
        "        super().compile()\n",
        "        self.d_optimizer = d_optimizer\n",
        "        self.g_optimizer = g_optimizer\n",
        "        self.loss_fn = loss_fn\n",
        "\n",
        "    def train_step(self, data):\n",
        "        # Unpack the data.\n",
        "        real_images, one_hot_labels = data\n",
        "\n",
        "        # Add dummy dimensions to the labels so that they can be concatenated with\n",
        "        # the images. This is for the discriminator.\n",
        "        image_one_hot_labels = one_hot_labels[:, :, None, None]\n",
        "        image_one_hot_labels = ops.repeat(\n",
        "            image_one_hot_labels, repeats=[image_size * image_size]\n",
        "        )\n",
        "        image_one_hot_labels = ops.reshape(\n",
        "            image_one_hot_labels, (-1, image_size, image_size, num_classes)\n",
        "        )\n",
        "\n",
        "        # Sample random points in the latent space and concatenate the labels.\n",
        "        # This is for the generator.\n",
        "        batch_size = ops.shape(real_images)[0]\n",
        "        random_latent_vectors = keras.random.normal(\n",
        "            shape=(batch_size, self.latent_dim), seed=self.seed_generator\n",
        "        )\n",
        "        random_vector_labels = ops.concatenate(\n",
        "            [random_latent_vectors, one_hot_labels], axis=1\n",
        "        )\n",
        "\n",
        "        # Decode the noise (guided by labels) to fake images.\n",
        "        generated_images = self.generator(random_vector_labels)\n",
        "\n",
        "        # Combine them with real images. Note that we are concatenating the labels\n",
        "        # with these images here.\n",
        "        fake_image_and_labels = ops.concatenate(\n",
        "            [generated_images, image_one_hot_labels], -1\n",
        "        )\n",
        "        real_image_and_labels = ops.concatenate([real_images, image_one_hot_labels], -1)\n",
        "        combined_images = ops.concatenate(\n",
        "            [fake_image_and_labels, real_image_and_labels], axis=0\n",
        "        )\n",
        "\n",
        "        # Assemble labels discriminating real from fake images.\n",
        "        labels = ops.concatenate(\n",
        "            [ops.ones((batch_size, 1)), ops.zeros((batch_size, 1))], axis=0\n",
        "        )\n",
        "\n",
        "        # Train the discriminator.\n",
        "        with tf.GradientTape() as tape:\n",
        "            predictions = self.discriminator(combined_images)\n",
        "            d_loss = self.loss_fn(labels, predictions)\n",
        "        grads = tape.gradient(d_loss, self.discriminator.trainable_weights)\n",
        "        self.d_optimizer.apply_gradients(\n",
        "            zip(grads, self.discriminator.trainable_weights)\n",
        "        )\n",
        "\n",
        "        # Sample random points in the latent space.\n",
        "        random_latent_vectors = keras.random.normal(\n",
        "            shape=(batch_size, self.latent_dim), seed=self.seed_generator\n",
        "        )\n",
        "        random_vector_labels = ops.concatenate(\n",
        "            [random_latent_vectors, one_hot_labels], axis=1\n",
        "        )\n",
        "\n",
        "        # Assemble labels that say \"all real images\".\n",
        "        misleading_labels = ops.zeros((batch_size, 1))\n",
        "\n",
        "        # Train the generator (note that we should *not* update the weights\n",
        "        # of the discriminator)!\n",
        "        with tf.GradientTape() as tape:\n",
        "            fake_images = self.generator(random_vector_labels)\n",
        "            fake_image_and_labels = ops.concatenate(\n",
        "                [fake_images, image_one_hot_labels], -1\n",
        "            )\n",
        "            predictions = self.discriminator(fake_image_and_labels)\n",
        "            g_loss = self.loss_fn(misleading_labels, predictions)\n",
        "        grads = tape.gradient(g_loss, self.generator.trainable_weights)\n",
        "        self.g_optimizer.apply_gradients(zip(grads, self.generator.trainable_weights))\n",
        "\n",
        "        # Monitor loss.\n",
        "        self.gen_loss_tracker.update_state(g_loss)\n",
        "        self.disc_loss_tracker.update_state(d_loss)\n",
        "        return {\n",
        "            \"g_loss\": self.gen_loss_tracker.result(),\n",
        "            \"d_loss\": self.disc_loss_tracker.result(),\n",
        "        }"
      ],
      "metadata": {
        "id": "2ORjJa4dOvtQ"
      },
      "execution_count": null,
      "outputs": []
    },
    {
      "cell_type": "markdown",
      "source": [
        "\n",
        "# Training the Conditional GAN"
      ],
      "metadata": {
        "id": "cDbVCWhSHnIK"
      }
    },
    {
      "cell_type": "code",
      "source": [
        "cond_gan = ConditionalGAN(\n",
        "    discriminator=discriminator, generator=generator, latent_dim=latent_dim\n",
        ")\n",
        "cond_gan.compile(\n",
        "    d_optimizer=keras.optimizers.Adam(learning_rate=0.0003),\n",
        "    g_optimizer=keras.optimizers.Adam(learning_rate=0.0003),\n",
        "    loss_fn=keras.losses.BinaryCrossentropy(from_logits=True),\n",
        ")\n",
        "\n",
        "cond_gan.fit(dataset, epochs=20)"
      ],
      "metadata": {
        "colab": {
          "base_uri": "https://localhost:8080/"
        },
        "id": "VYvJiOo3HoNZ",
        "outputId": "a65ccf42-cecf-45b9-88e0-1fe629b73d67"
      },
      "execution_count": null,
      "outputs": [
        {
          "output_type": "stream",
          "name": "stdout",
          "text": [
            "Epoch 1/20\n",
            "\u001b[1m1094/1094\u001b[0m \u001b[32m━━━━━━━━━━━━━━━━━━━━\u001b[0m\u001b[37m\u001b[0m \u001b[1m39s\u001b[0m 28ms/step - d_loss: 0.4530 - g_loss: 1.4101\n",
            "Epoch 2/20\n",
            "\u001b[1m1094/1094\u001b[0m \u001b[32m━━━━━━━━━━━━━━━━━━━━\u001b[0m\u001b[37m\u001b[0m \u001b[1m27s\u001b[0m 24ms/step - d_loss: 0.4749 - g_loss: 1.3949\n",
            "Epoch 3/20\n",
            "\u001b[1m1094/1094\u001b[0m \u001b[32m━━━━━━━━━━━━━━━━━━━━\u001b[0m\u001b[37m\u001b[0m \u001b[1m41s\u001b[0m 25ms/step - d_loss: 0.3905 - g_loss: 1.5939\n",
            "Epoch 4/20\n",
            "\u001b[1m1094/1094\u001b[0m \u001b[32m━━━━━━━━━━━━━━━━━━━━\u001b[0m\u001b[37m\u001b[0m \u001b[1m42s\u001b[0m 26ms/step - d_loss: 0.2573 - g_loss: 2.0563\n",
            "Epoch 5/20\n",
            "\u001b[1m1094/1094\u001b[0m \u001b[32m━━━━━━━━━━━━━━━━━━━━\u001b[0m\u001b[37m\u001b[0m \u001b[1m28s\u001b[0m 25ms/step - d_loss: 0.6021 - g_loss: 1.2038\n",
            "Epoch 6/20\n",
            "\u001b[1m1094/1094\u001b[0m \u001b[32m━━━━━━━━━━━━━━━━━━━━\u001b[0m\u001b[37m\u001b[0m \u001b[1m27s\u001b[0m 25ms/step - d_loss: 0.6215 - g_loss: 0.9820\n",
            "Epoch 7/20\n",
            "\u001b[1m1094/1094\u001b[0m \u001b[32m━━━━━━━━━━━━━━━━━━━━\u001b[0m\u001b[37m\u001b[0m \u001b[1m27s\u001b[0m 25ms/step - d_loss: 0.6435 - g_loss: 0.9152\n",
            "Epoch 8/20\n",
            "\u001b[1m1094/1094\u001b[0m \u001b[32m━━━━━━━━━━━━━━━━━━━━\u001b[0m\u001b[37m\u001b[0m \u001b[1m41s\u001b[0m 25ms/step - d_loss: 0.6535 - g_loss: 0.8964\n",
            "Epoch 9/20\n",
            "\u001b[1m1094/1094\u001b[0m \u001b[32m━━━━━━━━━━━━━━━━━━━━\u001b[0m\u001b[37m\u001b[0m \u001b[1m28s\u001b[0m 25ms/step - d_loss: 0.6668 - g_loss: 0.8385\n",
            "Epoch 10/20\n",
            "\u001b[1m1094/1094\u001b[0m \u001b[32m━━━━━━━━━━━━━━━━━━━━\u001b[0m\u001b[37m\u001b[0m \u001b[1m41s\u001b[0m 25ms/step - d_loss: 0.6785 - g_loss: 0.7945\n",
            "Epoch 11/20\n",
            "\u001b[1m1094/1094\u001b[0m \u001b[32m━━━━━━━━━━━━━━━━━━━━\u001b[0m\u001b[37m\u001b[0m \u001b[1m42s\u001b[0m 26ms/step - d_loss: 0.6784 - g_loss: 0.7808\n",
            "Epoch 12/20\n",
            "\u001b[1m1094/1094\u001b[0m \u001b[32m━━━━━━━━━━━━━━━━━━━━\u001b[0m\u001b[37m\u001b[0m \u001b[1m28s\u001b[0m 26ms/step - d_loss: 0.6641 - g_loss: 0.8196\n",
            "Epoch 13/20\n",
            "\u001b[1m1094/1094\u001b[0m \u001b[32m━━━━━━━━━━━━━━━━━━━━\u001b[0m\u001b[37m\u001b[0m \u001b[1m41s\u001b[0m 25ms/step - d_loss: 0.6719 - g_loss: 0.7841\n",
            "Epoch 14/20\n",
            "\u001b[1m1094/1094\u001b[0m \u001b[32m━━━━━━━━━━━━━━━━━━━━\u001b[0m\u001b[37m\u001b[0m \u001b[1m42s\u001b[0m 26ms/step - d_loss: 0.6756 - g_loss: 0.7790\n",
            "Epoch 15/20\n",
            "\u001b[1m1094/1094\u001b[0m \u001b[32m━━━━━━━━━━━━━━━━━━━━\u001b[0m\u001b[37m\u001b[0m \u001b[1m28s\u001b[0m 25ms/step - d_loss: 0.6737 - g_loss: 0.7689\n",
            "Epoch 16/20\n",
            "\u001b[1m1094/1094\u001b[0m \u001b[32m━━━━━━━━━━━━━━━━━━━━\u001b[0m\u001b[37m\u001b[0m \u001b[1m27s\u001b[0m 25ms/step - d_loss: 0.6749 - g_loss: 0.7729\n",
            "Epoch 17/20\n",
            "\u001b[1m1094/1094\u001b[0m \u001b[32m━━━━━━━━━━━━━━━━━━━━\u001b[0m\u001b[37m\u001b[0m \u001b[1m28s\u001b[0m 25ms/step - d_loss: 0.6716 - g_loss: 0.7647\n",
            "Epoch 18/20\n",
            "\u001b[1m1094/1094\u001b[0m \u001b[32m━━━━━━━━━━━━━━━━━━━━\u001b[0m\u001b[37m\u001b[0m \u001b[1m41s\u001b[0m 25ms/step - d_loss: 0.6733 - g_loss: 0.7788\n",
            "Epoch 19/20\n",
            "\u001b[1m1094/1094\u001b[0m \u001b[32m━━━━━━━━━━━━━━━━━━━━\u001b[0m\u001b[37m\u001b[0m \u001b[1m28s\u001b[0m 26ms/step - d_loss: 0.6694 - g_loss: 0.7685\n",
            "Epoch 20/20\n",
            "\u001b[1m1094/1094\u001b[0m \u001b[32m━━━━━━━━━━━━━━━━━━━━\u001b[0m\u001b[37m\u001b[0m \u001b[1m40s\u001b[0m 25ms/step - d_loss: 0.6689 - g_loss: 0.7744\n"
          ]
        },
        {
          "output_type": "execute_result",
          "data": {
            "text/plain": [
              "<keras.src.callbacks.history.History at 0x7ae3a70698a0>"
            ]
          },
          "metadata": {},
          "execution_count": 9
        }
      ]
    },
    {
      "cell_type": "markdown",
      "source": [
        "# Interpolating between classes with the trained generator"
      ],
      "metadata": {
        "id": "8h4RMbGVKgD_"
      }
    },
    {
      "cell_type": "code",
      "source": [
        "# We first extract the trained generator from our Conditional GAN.\n",
        "trained_gen = cond_gan.generator\n",
        "\n",
        "# Choose the number of intermediate images that would be generated in\n",
        "# between the interpolation + 2 (start and last images).\n",
        "num_interpolation = 9  # @param {type:\"integer\"}\n",
        "\n",
        "# Sample noise for the interpolation.\n",
        "interpolation_noise = keras.random.normal(shape=(1, latent_dim))\n",
        "interpolation_noise = ops.repeat(interpolation_noise, repeats=num_interpolation)\n",
        "interpolation_noise = ops.reshape(interpolation_noise, (num_interpolation, latent_dim))\n",
        "\n",
        "def interpolate_class(first_number, second_number):\n",
        "    # Convert the start and end labels to one-hot encoded vectors.\n",
        "    first_label = keras.utils.to_categorical([first_number], num_classes)\n",
        "    second_label = keras.utils.to_categorical([second_number], num_classes)\n",
        "    first_label = ops.cast(first_label, \"float32\")\n",
        "    second_label = ops.cast(second_label, \"float32\")\n",
        "\n",
        "    # Calculate the interpolation vector between the two labels.\n",
        "    percent_second_label = ops.linspace(0, 1, num_interpolation)[:, None]\n",
        "    percent_second_label = ops.cast(percent_second_label, \"float32\")\n",
        "    interpolation_labels = (\n",
        "        first_label * (1 - percent_second_label) + second_label * percent_second_label\n",
        "    )\n",
        "\n",
        "    # Combine the noise and the labels and run inference with the generator.\n",
        "    noise_and_labels = ops.concatenate([interpolation_noise, interpolation_labels], 1)\n",
        "    fake = trained_gen.predict(noise_and_labels)\n",
        "    return fake\n",
        "start_class = 2  # @param {type:\"slider\", min:0, max:9, step:1}\n",
        "end_class = 6  # @param {type:\"slider\", min:0, max:9, step:1}\n",
        "\n",
        "fake_images = interpolate_class(start_class, end_class)"
      ],
      "metadata": {
        "colab": {
          "base_uri": "https://localhost:8080/"
        },
        "id": "zq4v6oWEKhNe",
        "outputId": "6594a063-b1c0-4631-e3d3-5cdd9e10d56f"
      },
      "execution_count": null,
      "outputs": [
        {
          "output_type": "stream",
          "name": "stdout",
          "text": [
            "\u001b[1m1/1\u001b[0m \u001b[32m━━━━━━━━━━━━━━━━━━━━\u001b[0m\u001b[37m\u001b[0m \u001b[1m1s\u001b[0m 590ms/step\n"
          ]
        }
      ]
    },
    {
      "cell_type": "code",
      "source": [
        "fake_images *= 255.0\n",
        "converted_images = fake_images.astype(np.uint8)\n",
        "converted_images = ops.image.resize(converted_images, (96, 96)).numpy().astype(np.uint8)\n",
        "imageio.mimsave(\"animation.gif\", converted_images[:, :, :, 0], fps=1)\n",
        "embed.embed_file(\"animation.gif\")"
      ],
      "metadata": {
        "colab": {
          "base_uri": "https://localhost:8080/",
          "height": 117
        },
        "id": "7yxCyDpkQ91p",
        "outputId": "576450e8-ccf4-40ab-cf2b-8c28eeb1071f"
      },
      "execution_count": null,
      "outputs": [
        {
          "output_type": "execute_result",
          "data": {
            "text/plain": [
              "<IPython.core.display.HTML object>"
            ],
            "text/html": [
              "<img src=\"data:image/gif;base64,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\"/>"
            ]
          },
          "metadata": {},
          "execution_count": 11
        }
      ]
    },
    {
      "cell_type": "code",
      "source": [
        "fake_images.shape"
      ],
      "metadata": {
        "colab": {
          "base_uri": "https://localhost:8080/"
        },
        "id": "7TcLJZJ2UuEj",
        "outputId": "f701200e-d1c7-4805-a2f9-2902764b782f"
      },
      "execution_count": null,
      "outputs": [
        {
          "output_type": "execute_result",
          "data": {
            "text/plain": [
              "(9, 28, 28, 1)"
            ]
          },
          "metadata": {},
          "execution_count": 12
        }
      ]
    },
    {
      "cell_type": "code",
      "source": [
        "fake_images[0].shape"
      ],
      "metadata": {
        "colab": {
          "base_uri": "https://localhost:8080/"
        },
        "id": "7LCuzklUV4ZT",
        "outputId": "d60076b1-1f10-4b5c-c3d8-cdc8fb46963f"
      },
      "execution_count": null,
      "outputs": [
        {
          "output_type": "execute_result",
          "data": {
            "text/plain": [
              "(28, 28, 1)"
            ]
          },
          "metadata": {},
          "execution_count": 13
        }
      ]
    },
    {
      "cell_type": "code",
      "source": [
        "import matplotlib.pyplot as plt\n",
        "plt.imshow(fake_images[7])"
      ],
      "metadata": {
        "colab": {
          "base_uri": "https://localhost:8080/",
          "height": 447
        },
        "id": "a27m-G2YV74b",
        "outputId": "7e4dafd7-5fb5-4eac-baf4-a4ce539959e4"
      },
      "execution_count": null,
      "outputs": [
        {
          "output_type": "execute_result",
          "data": {
            "text/plain": [
              "<matplotlib.image.AxesImage at 0x7ae3864760e0>"
            ]
          },
          "metadata": {},
          "execution_count": 14
        },
        {
          "output_type": "display_data",
          "data": {
            "text/plain": [
              "<Figure size 640x480 with 1 Axes>"
            ],
            "image/png": "[encoded data removed]"
          },
          "metadata": {}
        }
      ]
    }
  ]
}